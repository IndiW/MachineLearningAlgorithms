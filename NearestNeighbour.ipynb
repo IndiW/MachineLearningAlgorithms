{
 "cells": [
  {
   "cell_type": "code",
   "execution_count": 64,
   "metadata": {},
   "outputs": [],
   "source": [
    "#For a set of points, when you get a test point find the nearest point to that test point. Give the test point\n",
    "#the same label as that neighbour\n",
    "\n",
    "\n",
    "color = {'red': 1,'yellow': 2,'orange': 3}\n",
    "shape = {'sphere': 1,'long': 2}\n",
    "size = {'large': 1, 'small': 2}\n",
    "\n",
    "#name, color, shape, size\n",
    "dataset = [['orange', 'orange','sphere','large'],\n",
    "              ['apple','red','sphere','large'],\n",
    "              ['banana','yellow','long','large'],\n",
    "              ['cherry','red','sphere','small']]"
   ]
  },
  {
   "cell_type": "code",
   "execution_count": 65,
   "metadata": {},
   "outputs": [],
   "source": [
    "#convert single data point\n",
    "def convert_point(point,color,shape,size):\n",
    "    subset = []\n",
    "    subset.append(point[0])\n",
    "    subset.append(color[point[1]])\n",
    "    subset.append(shape[point[2]])\n",
    "    subset.append(size[point[3]])\n",
    "    return subset"
   ]
  },
  {
   "cell_type": "code",
   "execution_count": 66,
   "metadata": {},
   "outputs": [],
   "source": [
    "#converts features to integers\n",
    "def convert_dataset(dataset,color,shape,size):\n",
    "    newset = []\n",
    "    for val in dataset:\n",
    "        subset = []\n",
    "        subset = convert_point(val,color,shape,size)\n",
    "        newset.append(subset)\n",
    "    return newset"
   ]
  },
  {
   "cell_type": "code",
   "execution_count": 67,
   "metadata": {},
   "outputs": [],
   "source": [
    "def euclidean_distance(point1, point2):\n",
    "    x1 = (point1[1] - point2[1])**2\n",
    "    x2 = (point1[2] - point2[2])**2\n",
    "    x3 = (point1[3] - point2[3])**2\n",
    "    return (x1 + x2 + x3)**0.5"
   ]
  },
  {
   "cell_type": "code",
   "execution_count": 68,
   "metadata": {},
   "outputs": [],
   "source": [
    "\n",
    "def NearestNeighbour(dataset, testpoint):\n",
    "    min = 999\n",
    "    for val in dataset:\n",
    "        dist = euclidean_distance(val,testpoint)\n",
    "        if dist < min:\n",
    "            min = dist\n",
    "            label = val[0]\n",
    "            \n",
    "    return label"
   ]
  },
  {
   "cell_type": "code",
   "execution_count": 69,
   "metadata": {},
   "outputs": [
    {
     "data": {
      "text/plain": [
       "'cherry'"
      ]
     },
     "execution_count": 69,
     "metadata": {},
     "output_type": "execute_result"
    }
   ],
   "source": [
    "x = convert_dataset(dataset,color,shape,size)\n",
    "test = convert_point(['fruit','red','long','small'],color,shape,size)\n",
    "\n",
    "NearestNeighbour(x,test)"
   ]
  }
 ],
 "metadata": {
  "kernelspec": {
   "display_name": "Python 3",
   "language": "python",
   "name": "python3"
  },
  "language_info": {
   "codemirror_mode": {
    "name": "ipython",
    "version": 3
   },
   "file_extension": ".py",
   "mimetype": "text/x-python",
   "name": "python",
   "nbconvert_exporter": "python",
   "pygments_lexer": "ipython3",
   "version": "3.6.9"
  }
 },
 "nbformat": 4,
 "nbformat_minor": 2
}
